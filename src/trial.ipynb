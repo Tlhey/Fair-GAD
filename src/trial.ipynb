{
 "cells": [
  {
   "cell_type": "code",
   "execution_count": null,
   "metadata": {},
   "outputs": [],
   "source": [
    "import time\n",
    "import argparse\n",
    "import numpy as np\n",
    "import torch\n",
    "import torch.nn.functional as F\n",
    "import torch.optim as optim\n",
    "from utils import load_data, accuracy,load_pokec\n",
    "\n",
    "\n",
    "\n",
    "dataset = 'region_job'\n",
    "sens_attr = \"region\"\n",
    "predict_attr = \"I_am_working_in_field\"\n",
    "label_number =  500\n",
    "sens_number = 200\n",
    "seed = 20\n",
    "path=\"../dataset/pokec/\"\n",
    "test_idx=False\n",
    "\n",
    "adj, features, labels, idx_train, idx_val, idx_test, sens, idx_sens_train = load_pokec(dataset,\n",
    "                                                                                    sens_attr,\n",
    "                                                                                    predict_attr,\n",
    "                                                                                    path=path,\n",
    "                                                                                    label_number=label_number,\n",
    "                                                                                    sens_number=sens_number,\n",
    "                                                                                    seed=seed,test_idx=test_idx)"
   ]
  }
 ],
 "metadata": {
  "language_info": {
   "name": "python"
  }
 },
 "nbformat": 4,
 "nbformat_minor": 2
}
